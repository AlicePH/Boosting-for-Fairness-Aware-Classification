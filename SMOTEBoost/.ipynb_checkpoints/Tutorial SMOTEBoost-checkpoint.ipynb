{
 "cells": [
  {
   "cell_type": "code",
   "execution_count": 2,
   "metadata": {},
   "outputs": [],
   "source": [
    "import pandas as pd\n",
    "from sklearn.datasets import make_moons\n",
    "from sklearn.metrics import classification_report\n",
    "from SMOTEBoost import SMOTEBoostClassifier\n",
    "from sklearn.tree import DecisionTreeClassifier\n",
    "from sklearn.metrics import balanced_accuracy_score, f1_score\n",
    "from sklearn.model_selection import train_test_split"
   ]
  },
  {
   "cell_type": "markdown",
   "metadata": {},
   "source": [
    "# Toy example"
   ]
  },
  {
   "cell_type": "code",
   "execution_count": 3,
   "metadata": {
    "scrolled": false
   },
   "outputs": [],
   "source": [
    "X, y = make_moons(n_samples=1000, noise=0.3, random_state=0)\n",
    "X_train, X_test, y_trian, y_test = train_test_split(X, y, test_size=0.33, random_state=0)"
   ]
  },
  {
   "cell_type": "code",
   "execution_count": 4,
   "metadata": {
    "scrolled": true
   },
   "outputs": [
    {
     "name": "stdout",
     "output_type": "stream",
     "text": [
      "balanced_accuracy_score:  0.8971015025164395 f1_score:  0.896969696969697\n",
      "\n",
      "              precision    recall  f1-score   support\n",
      "\n",
      "           0       0.89      0.91      0.90       163\n",
      "           1       0.91      0.89      0.90       167\n",
      "\n",
      "    accuracy                           0.90       330\n",
      "   macro avg       0.90      0.90      0.90       330\n",
      "weighted avg       0.90      0.90      0.90       330\n",
      "\n"
     ]
    }
   ],
   "source": [
    "smote = SMOTEBoostClassifier()\n",
    "smote.fit(X_train, y_trian)\n",
    "\n",
    "\n",
    "predicitons = smote.predict(X_test)\n",
    "\n",
    "print('balanced_accuracy_score: ', balanced_accuracy_score(y_test, predicitons), 'f1_score: ', f1_score(y_test, predicitons))\n",
    "print()\n",
    "print(classification_report(y_test, predicitons))"
   ]
  },
  {
   "cell_type": "markdown",
   "metadata": {},
   "source": [
    "# Dataset adult.csv with Imbalanced classes"
   ]
  },
  {
   "cell_type": "code",
   "execution_count": 5,
   "metadata": {},
   "outputs": [],
   "source": [
    "import os, sys\n",
    "\n",
    "path = sys.path[0].replace('SMOTEBoost', 'data')\n",
    "data_name = path + '\\\\' +  os.listdir(path)[0]"
   ]
  },
  {
   "cell_type": "code",
   "execution_count": 6,
   "metadata": {},
   "outputs": [],
   "source": [
    "df = pd.read_csv(data_name)\n",
    "y = df['Class-label']\n",
    "X = df.drop('Class-label', axis=1)\n",
    "X = pd.get_dummies(X)\n",
    "\n",
    "\n",
    "X_train, X_test, y_train, y_test = train_test_split(X, y, test_size=0.33, random_state=0)"
   ]
  },
  {
   "cell_type": "markdown",
   "metadata": {},
   "source": [
    "## Varing the parameter: depth of base estimator"
   ]
  },
  {
   "cell_type": "code",
   "execution_count": 7,
   "metadata": {},
   "outputs": [
    {
     "name": "stdout",
     "output_type": "stream",
     "text": [
      "Base estimator's depth:  3\n",
      "balanced_accuracy_score:  0.6388555607557663 f1_score:  0.4357307611658629\n",
      "\n",
      "              precision    recall  f1-score   support\n",
      "\n",
      "           0       0.81      0.99      0.89     11243\n",
      "           1       0.94      0.28      0.44      3665\n",
      "\n",
      "    accuracy                           0.82     14908\n",
      "   macro avg       0.88      0.64      0.66     14908\n",
      "weighted avg       0.84      0.82      0.78     14908\n",
      "\n",
      "\n",
      "Base estimator's depth:  5\n",
      "balanced_accuracy_score:  0.7340278183096252 f1_score:  0.6213271706833939\n",
      "\n",
      "              precision    recall  f1-score   support\n",
      "\n",
      "           0       0.86      0.95      0.90     11243\n",
      "           1       0.79      0.51      0.62      3665\n",
      "\n",
      "    accuracy                           0.85     14908\n",
      "   macro avg       0.82      0.73      0.76     14908\n",
      "weighted avg       0.84      0.85      0.83     14908\n",
      "\n",
      "\n",
      "Base estimator's depth:  7\n",
      "balanced_accuracy_score:  0.7558595986782863 f1_score:  0.6551010663695688\n",
      "\n",
      "              precision    recall  f1-score   support\n",
      "\n",
      "           0       0.87      0.95      0.91     11243\n",
      "           1       0.79      0.56      0.66      3665\n",
      "\n",
      "    accuracy                           0.85     14908\n",
      "   macro avg       0.83      0.76      0.78     14908\n",
      "weighted avg       0.85      0.85      0.85     14908\n",
      "\n",
      "\n",
      "Base estimator's depth:  20\n",
      "balanced_accuracy_score:  0.769675355980177 f1_score:  0.6593687802104065\n",
      "\n",
      "              precision    recall  f1-score   support\n",
      "\n",
      "           0       0.88      0.91      0.89     11243\n",
      "           1       0.69      0.63      0.66      3665\n",
      "\n",
      "    accuracy                           0.84     14908\n",
      "   macro avg       0.79      0.77      0.78     14908\n",
      "weighted avg       0.84      0.84      0.84     14908\n",
      "\n",
      "\n"
     ]
    }
   ],
   "source": [
    "for depth in [3, 5, 7, 20]:\n",
    "\n",
    "    smote = SMOTEBoostClassifier(DecisionTreeClassifier(max_depth=depth))\n",
    "    smote.fit(X_train, y_train)\n",
    "    \n",
    "    predicitons = smote.predict(X_test)\n",
    "    \n",
    "    print(\"Base estimator's depth: \", depth)\n",
    "    print('balanced_accuracy_score: ', balanced_accuracy_score(y_test, predicitons), 'f1_score: ', f1_score(y_test, predicitons))\n",
    "    print()\n",
    "    print(classification_report(y_test, predicitons))\n",
    "    print()"
   ]
  },
  {
   "cell_type": "markdown",
   "metadata": {},
   "source": [
    "## Varing the parameter: number of syntatic samples"
   ]
  },
  {
   "cell_type": "code",
   "execution_count": 16,
   "metadata": {},
   "outputs": [
    {
     "name": "stdout",
     "output_type": "stream",
     "text": [
      "Number of syntatic samples:  3\n",
      "balanced_accuracy_score:  0.733666022781615 f1_score:  0.6206668867613074\n",
      "\n",
      "              precision    recall  f1-score   support\n",
      "\n",
      "           0       0.86      0.95      0.90     11243\n",
      "           1       0.79      0.51      0.62      3665\n",
      "\n",
      "    accuracy                           0.85     14908\n",
      "   macro avg       0.82      0.73      0.76     14908\n",
      "weighted avg       0.84      0.85      0.83     14908\n",
      "\n",
      "\n",
      "Number of syntatic samples:  10\n",
      "balanced_accuracy_score:  0.7337104948975983 f1_score:  0.6207693577678719\n",
      "\n",
      "              precision    recall  f1-score   support\n",
      "\n",
      "           0       0.86      0.95      0.90     11243\n",
      "           1       0.79      0.51      0.62      3665\n",
      "\n",
      "    accuracy                           0.85     14908\n",
      "   macro avg       0.82      0.73      0.76     14908\n",
      "weighted avg       0.84      0.85      0.83     14908\n",
      "\n",
      "\n",
      "Number of syntatic samples:  20\n",
      "balanced_accuracy_score:  0.7339833461936419 f1_score:  0.6212246245254992\n",
      "\n",
      "              precision    recall  f1-score   support\n",
      "\n",
      "           0       0.86      0.95      0.90     11243\n",
      "           1       0.79      0.51      0.62      3665\n",
      "\n",
      "    accuracy                           0.85     14908\n",
      "   macro avg       0.82      0.73      0.76     14908\n",
      "weighted avg       0.84      0.85      0.83     14908\n",
      "\n",
      "\n",
      "Number of syntatic samples:  100\n",
      "balanced_accuracy_score:  0.7342561974896855 f1_score:  0.6216795908265963\n",
      "\n",
      "              precision    recall  f1-score   support\n",
      "\n",
      "           0       0.86      0.95      0.90     11243\n",
      "           1       0.79      0.51      0.62      3665\n",
      "\n",
      "    accuracy                           0.85     14908\n",
      "   macro avg       0.82      0.73      0.76     14908\n",
      "weighted avg       0.84      0.85      0.83     14908\n",
      "\n",
      "\n"
     ]
    }
   ],
   "source": [
    "for _n_syn_samples in [3, 10, 20, 100]:\n",
    "\n",
    "    smote = SMOTEBoostClassifier(n_syn_samples=_n_syn_samples)\n",
    "    smote.fit(X_train, y_train)\n",
    "    \n",
    "    predicitons = smote.predict(X_test)\n",
    "    \n",
    "    print(\"Number of syntatic samples: \", _n_syn_samples)\n",
    "    print('balanced_accuracy_score: ', balanced_accuracy_score(y_test, predicitons), 'f1_score: ', f1_score(y_test, predicitons))\n",
    "    print()\n",
    "    print(classification_report(y_test, predicitons))\n",
    "    print()"
   ]
  },
  {
   "cell_type": "markdown",
   "metadata": {},
   "source": [
    "## Varing the parameter: number of base estimator"
   ]
  },
  {
   "cell_type": "code",
   "execution_count": 9,
   "metadata": {},
   "outputs": [
    {
     "name": "stdout",
     "output_type": "stream",
     "text": [
      "Number of base estimators:  3\n",
      "balanced_accuracy_score:  0.7343006696056689 f1_score:  0.6217821782178218\n",
      "\n",
      "              precision    recall  f1-score   support\n",
      "\n",
      "           0       0.86      0.95      0.90     11243\n",
      "           1       0.79      0.51      0.62      3665\n",
      "\n",
      "    accuracy                           0.85     14908\n",
      "   macro avg       0.82      0.73      0.76     14908\n",
      "weighted avg       0.84      0.85      0.83     14908\n",
      "\n",
      "\n",
      "Number of base estimators:  10\n",
      "balanced_accuracy_score:  0.7339833461936419 f1_score:  0.6212246245254992\n",
      "\n",
      "              precision    recall  f1-score   support\n",
      "\n",
      "           0       0.86      0.95      0.90     11243\n",
      "           1       0.79      0.51      0.62      3665\n",
      "\n",
      "    accuracy                           0.85     14908\n",
      "   macro avg       0.82      0.73      0.76     14908\n",
      "weighted avg       0.84      0.85      0.83     14908\n",
      "\n",
      "\n",
      "Number of base estimators:  20\n",
      "balanced_accuracy_score:  0.7337549670135816 f1_score:  0.6208718626155878\n",
      "\n",
      "              precision    recall  f1-score   support\n",
      "\n",
      "           0       0.86      0.95      0.90     11243\n",
      "           1       0.79      0.51      0.62      3665\n",
      "\n",
      "    accuracy                           0.85     14908\n",
      "   macro avg       0.82      0.73      0.76     14908\n",
      "weighted avg       0.84      0.85      0.83     14908\n",
      "\n",
      "\n",
      "Number of base estimators:  100\n",
      "balanced_accuracy_score:  0.7337549670135816 f1_score:  0.6208718626155878\n",
      "\n",
      "              precision    recall  f1-score   support\n",
      "\n",
      "           0       0.86      0.95      0.90     11243\n",
      "           1       0.79      0.51      0.62      3665\n",
      "\n",
      "    accuracy                           0.85     14908\n",
      "   macro avg       0.82      0.73      0.76     14908\n",
      "weighted avg       0.84      0.85      0.83     14908\n",
      "\n",
      "\n"
     ]
    }
   ],
   "source": [
    "for _n_estimators in [3, 10, 20, 100]:\n",
    "\n",
    "    smote = SMOTEBoostClassifier(n_estimators=_n_estimators)\n",
    "    smote.fit(X_train, y_train)\n",
    "    \n",
    "    predicitons = smote.predict(X_test)\n",
    "    \n",
    "    print(\"Number of base estimators: \", _n_estimators)\n",
    "    print('balanced_accuracy_score: ', balanced_accuracy_score(y_test, predicitons), 'f1_score: ', f1_score(y_test, predicitons))\n",
    "    print()\n",
    "    print(classification_report(y_test, predicitons))\n",
    "    print()"
   ]
  },
  {
   "cell_type": "markdown",
   "metadata": {},
   "source": [
    "## Varing the parameter: number of neighbours"
   ]
  },
  {
   "cell_type": "code",
   "execution_count": 10,
   "metadata": {},
   "outputs": [
    {
     "name": "stdout",
     "output_type": "stream",
     "text": [
      "Number of neighbors:  100\n",
      "balanced_accuracy_score:  0.7334376436015546 f1_score:  0.6203137902559868\n",
      "\n",
      "              precision    recall  f1-score   support\n",
      "\n",
      "           0       0.86      0.95      0.90     11243\n",
      "           1       0.79      0.51      0.62      3665\n",
      "\n",
      "    accuracy                           0.85     14908\n",
      "   macro avg       0.82      0.73      0.76     14908\n",
      "weighted avg       0.84      0.85      0.83     14908\n",
      "\n",
      "\n",
      "Number of neighbors:  100\n",
      "balanced_accuracy_score:  0.7342561974896855 f1_score:  0.6216795908265963\n",
      "\n",
      "              precision    recall  f1-score   support\n",
      "\n",
      "           0       0.86      0.95      0.90     11243\n",
      "           1       0.79      0.51      0.62      3665\n",
      "\n",
      "    accuracy                           0.85     14908\n",
      "   macro avg       0.82      0.73      0.76     14908\n",
      "weighted avg       0.84      0.85      0.83     14908\n",
      "\n",
      "\n",
      "Number of neighbors:  100\n",
      "balanced_accuracy_score:  0.733666022781615 f1_score:  0.6206668867613074\n",
      "\n",
      "              precision    recall  f1-score   support\n",
      "\n",
      "           0       0.86      0.95      0.90     11243\n",
      "           1       0.79      0.51      0.62      3665\n",
      "\n",
      "    accuracy                           0.85     14908\n",
      "   macro avg       0.82      0.73      0.76     14908\n",
      "weighted avg       0.84      0.85      0.83     14908\n",
      "\n",
      "\n"
     ]
    }
   ],
   "source": [
    "for _k_neighbors in [3, 10, 20]:\n",
    "\n",
    "    smote = SMOTEBoostClassifier(k_neighbors=_k_neighbors)\n",
    "    smote.fit(X_train, y_train)\n",
    "    \n",
    "    predicitons = smote.predict(X_test)\n",
    "    \n",
    "    print(\"Number of neighbors: \", _n_estimators)\n",
    "    print('balanced_accuracy_score: ', balanced_accuracy_score(y_test, predicitons), 'f1_score: ', f1_score(y_test, predicitons))\n",
    "    print()\n",
    "    print(classification_report(y_test, predicitons))\n",
    "    print()"
   ]
  }
 ],
 "metadata": {
  "kernelspec": {
   "display_name": "Python 3",
   "language": "python",
   "name": "python3"
  }
 },
 "nbformat": 4,
 "nbformat_minor": 4
}
