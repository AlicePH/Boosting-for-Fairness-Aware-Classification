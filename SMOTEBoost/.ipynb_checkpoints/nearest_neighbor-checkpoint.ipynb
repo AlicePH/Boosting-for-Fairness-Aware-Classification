{
 "cells": [
  {
   "cell_type": "code",
   "execution_count": null,
   "metadata": {},
   "outputs": [],
   "source": [
    "import numpy as np\n",
    "from knn.distances import euclidean_distance, cosine_distance\n",
    "\n",
    "\n",
    "class NearestNeighborsFinder:\n",
    "    def __init__(self, n_neighbors, metric=\"euclidean\"):\n",
    "        self.n_neighbors = n_neighbors\n",
    "\n",
    "        if metric == \"euclidean\":\n",
    "            self._metric_func = euclidean_distance\n",
    "        elif metric == \"cosine\":\n",
    "            self._metric_func = cosine_distance\n",
    "        else:\n",
    "            raise ValueError(\"Metric is not supported\", metric)\n",
    "        self.metric = metric\n",
    "\n",
    "    def fit(self, X, y=None):\n",
    "        self._X = X\n",
    "        return self\n",
    "\n",
    "    def kneighbors(self, X, return_distance=False):\n",
    "        k = self.n_neighbors\n",
    "        A = self._metric_func(X, self._X)\n",
    "        if (k < self._X.shape[0]):\n",
    "            W = np.partition(A, k, axis=1)[:, :k]\n",
    "            distances = np.sort(W, axis=1)\n",
    "            indices = np.imag(np.sort(W + np.argpartition(A, k, axis=1)[:, :k]*1j, axis=1))\n",
    "        elif (k == self._X.shape[0]):\n",
    "            distances = np.sort(A, axis=1)\n",
    "            indices = np.argsort(A, axis=1)\n",
    "        else:\n",
    "            raise ValueError(\"n_neighbors > sample size\")\n",
    "\n",
    "        if return_distance is True:\n",
    "            return np.array((distances, indices))\n",
    "        else:\n",
    "            return indices\n"
   ]
  }
 ],
 "metadata": {
  "kernelspec": {
   "display_name": "Python 3",
   "language": "python",
   "name": "python3"
  },
  "language_info": {
   "codemirror_mode": {
    "name": "ipython",
    "version": 3
   },
   "file_extension": ".py",
   "mimetype": "text/x-python",
   "name": "python",
   "nbconvert_exporter": "python",
   "pygments_lexer": "ipython3",
   "version": "3.7.6"
  }
 },
 "nbformat": 4,
 "nbformat_minor": 4
}
