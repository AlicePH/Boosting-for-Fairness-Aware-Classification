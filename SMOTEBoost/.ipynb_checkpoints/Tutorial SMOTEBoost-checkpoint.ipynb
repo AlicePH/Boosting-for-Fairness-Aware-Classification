{
 "cells": [
  {
   "cell_type": "code",
   "execution_count": null,
   "metadata": {},
   "outputs": [],
   "source": [
    "import pandas as pd\n",
    "from sklearn.datasets import make_moons\n",
    "from sklearn.metrics import classification_report\n",
    "from SMOTEBoost import SMOTEBoostClassifier\n",
    "from sklearn.tree import DecisionTreeClassifier\n",
    "from sklearn.metrics import balanced_accuracy_score, f1_score\n",
    "from sklearn.model_selection import train_test_split"
   ]
  },
  {
   "cell_type": "markdown",
   "metadata": {},
   "source": [
    "# Toy example"
   ]
  },
  {
   "cell_type": "code",
   "execution_count": null,
   "metadata": {},
   "outputs": [],
   "source": [
    "X, y = make_moons(n_samples=1000, noise=0.3, random_state=0)\n",
    "X_train, X_test, y_trian, y_test = train_test_split(X, y, test_size=0.33, random_state=0)"
   ]
  },
  {
   "cell_type": "code",
   "execution_count": 18,
   "metadata": {
    "scrolled": true
   },
   "outputs": [
    {
     "name": "stdout",
     "output_type": "stream",
     "text": [
      "balanced_accuracy_score:  0.8971015025164395 f1_score:  0.896969696969697\n",
      "\n",
      "              precision    recall  f1-score   support\n",
      "\n",
      "           0       0.89      0.91      0.90       163\n",
      "           1       0.91      0.89      0.90       167\n",
      "\n",
      "    accuracy                           0.90       330\n",
      "   macro avg       0.90      0.90      0.90       330\n",
      "weighted avg       0.90      0.90      0.90       330\n",
      "\n"
     ]
    }
   ],
   "source": [
    "smote = SMOTEBoostClassifier()\n",
    "smote.fit(X_train, y_trian)\n",
    "\n",
    "\n",
    "predicitons = smote.predict(X_test)\n",
    "\n",
    "print('balanced_accuracy_score: ', balanced_accuracy_score(y_test, predicitons), 'f1_score: ', f1_score(y_test, predicitons))\n",
    "print()\n",
    "print(classification_report(y_test, predicitons))"
   ]
  },
  {
   "cell_type": "markdown",
   "metadata": {},
   "source": [
    "# Our Dataset with Imbalanced classes"
   ]
  },
  {
   "cell_type": "code",
   "execution_count": null,
   "metadata": {},
   "outputs": [],
   "source": [
    "import os, sys\n",
    "\n",
    "path = sys.path[0].replace('SMOTEBoost', 'data')\n",
    "data_name = path + '\\\\' +  os.listdir(path)[0]"
   ]
  },
  {
   "cell_type": "code",
   "execution_count": 19,
   "metadata": {},
   "outputs": [],
   "source": [
    "df = pd.read_csv(data_name)\n",
    "y = df['Class-label']\n",
    "X = df.drop('Class-label', axis=1)\n",
    "X = pd.get_dummies(X)\n",
    "\n",
    "\n",
    "X_train, X_test, y_trian, y_test = train_test_split(X, y, test_size=0.33, random_state=0)"
   ]
  },
  {
   "cell_type": "code",
   "execution_count": 21,
   "metadata": {},
   "outputs": [
    {
     "name": "stdout",
     "output_type": "stream",
     "text": [
      "Base estimator's depth:  3\n",
      "balanced_accuracy_score:  0.6394012633478536 f1_score:  0.43704169285564637\n",
      "\n",
      "              precision    recall  f1-score   support\n",
      "\n",
      "           0       0.81      0.99      0.89     11243\n",
      "           1       0.94      0.28      0.44      3665\n",
      "\n",
      "    accuracy                           0.82     14908\n",
      "   macro avg       0.88      0.64      0.66     14908\n",
      "weighted avg       0.84      0.82      0.78     14908\n",
      "\n",
      "\n",
      "Base estimator's depth:  5\n",
      "balanced_accuracy_score:  0.7340278183096252 f1_score:  0.6213271706833939\n",
      "\n",
      "              precision    recall  f1-score   support\n",
      "\n",
      "           0       0.86      0.95      0.90     11243\n",
      "           1       0.79      0.51      0.62      3665\n",
      "\n",
      "    accuracy                           0.85     14908\n",
      "   macro avg       0.82      0.73      0.76     14908\n",
      "weighted avg       0.84      0.85      0.83     14908\n",
      "\n",
      "\n",
      "Base estimator's depth:  7\n",
      "balanced_accuracy_score:  0.7576157436872347 f1_score:  0.65687667771988\n",
      "\n",
      "              precision    recall  f1-score   support\n",
      "\n",
      "           0       0.87      0.95      0.91     11243\n",
      "           1       0.78      0.57      0.66      3665\n",
      "\n",
      "    accuracy                           0.85     14908\n",
      "   macro avg       0.83      0.76      0.78     14908\n",
      "weighted avg       0.85      0.85      0.85     14908\n",
      "\n",
      "\n",
      "Base estimator's depth:  20\n",
      "balanced_accuracy_score:  0.7696369024643377 f1_score:  0.6590941360215817\n",
      "\n",
      "              precision    recall  f1-score   support\n",
      "\n",
      "           0       0.88      0.91      0.89     11243\n",
      "           1       0.69      0.63      0.66      3665\n",
      "\n",
      "    accuracy                           0.84     14908\n",
      "   macro avg       0.79      0.77      0.78     14908\n",
      "weighted avg       0.84      0.84      0.84     14908\n",
      "\n",
      "\n"
     ]
    }
   ],
   "source": [
    "for depth in [3, 5, 7, 20]:\n",
    "\n",
    "    smote = SMOTEBoostClassifier(DecisionTreeClassifier(max_depth=depth))\n",
    "    smote.fit(X_train, y_trian)\n",
    "    \n",
    "    predicitons = smote.predict(X_test)\n",
    "    \n",
    "    print(\"Base estimator's depth: \", depth)\n",
    "    print('balanced_accuracy_score: ', balanced_accuracy_score(y_test, predicitons), 'f1_score: ', f1_score(y_test, predicitons))\n",
    "    print()\n",
    "    print(classification_report(y_test, predicitons))\n",
    "    print()"
   ]
  }
 ],
 "metadata": {
  "kernelspec": {
   "display_name": "Python 3",
   "language": "python",
   "name": "python3"
  },
  "language_info": {
   "codemirror_mode": {
    "name": "ipython",
    "version": 3
   },
   "file_extension": ".py",
   "mimetype": "text/x-python",
   "name": "python",
   "nbconvert_exporter": "python",
   "pygments_lexer": "ipython3",
   "version": "3.7.6"
  }
 },
 "nbformat": 4,
 "nbformat_minor": 4
}
